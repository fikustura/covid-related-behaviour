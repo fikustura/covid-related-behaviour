{
 "cells": [
  {
   "cell_type": "markdown",
   "id": "44de89fb",
   "metadata": {},
   "source": [
    "# Esej - Stavovi i navike tijekom pandemije COVID-19"
   ]
  },
  {
   "cell_type": "markdown",
   "id": "2f371559",
   "metadata": {},
   "source": [
    "S 29. ožujka ove godine završilo je dvogodišnje istraživanje o stavovima i navikama ljudi diljem svijeta kada je u pitanju trenutna pandemija. Ovo istraživanje, pokrenuto u suradnji sveučilišta __Imperial College London__ i kompanije __YouGov__, sastojalo se od prikupljanja odgovora stanovnika iz 29 odabranih svjetskih država na pitanja koja su usko vezana uz COVID pandemiju. Zdravstveni podaci, koliko su spremni nositi zaštitne maske za lice, stavovi oko cijepljenja, samoizolacija, izbjegavanje nepotrebnih putovanja, higijenske navike, kvaliteta života, rad od kuće i sl. -- ove teme do najsitnijih detalja.\n",
    "\n",
    "Ideja istraživanja je omogućiti vlastima i zdravstvenim sustavima bolje strateško planiranje kada je u pitanju COVID-19 kriza."
   ]
  },
  {
   "cell_type": "markdown",
   "id": "a9f3dbf5",
   "metadata": {},
   "source": [
    "Na stranici https://www.imperial.ac.uk/centre-for-health-policy/our-work/our-response-to-covid-19/covid-19-behaviour-tracker/ moguće je pronaći osnovne informacije o istraživanju, a na stranici https://github.com/YouGov-Data/covid-19-tracker nalazi se baza podataka koja obuhvaća odgovore (numeričke i nenumeričke) ispitanika, zajedno s pitanjima i pojašnjenjima."
   ]
  },
  {
   "cell_type": "markdown",
   "id": "c6e821a4",
   "metadata": {},
   "source": [
    "### Pitanja od našeg interesa"
   ]
  },
  {
   "cell_type": "markdown",
   "id": "baea9dc2",
   "metadata": {},
   "source": [
    "__Analizirat ćemo odgovore__ na nekoliko pitanja zasebno. Pitanja od interesa su sljedeća:\n",
    "<ol>\n",
    "    <li>Koliko često je ispitanik unazad tjedan dana nosio <b>zaštitnu masku za lice</b> tijekom vožnje u javnom prijevozu?</li>\n",
    "    <li>Slaže li se ispitanik s tvrdnjom da <b>cjepivo</b> protiv Covida-19 ni za koga <em>ne bi</em> trebalo biti obavezno?</li>\n",
    "    <li>Koliko dana tjedno (u prosjeku) je ispitanik unazad mjesec dana <b>radio od kuće</b>?</li>\n",
    "    <li>Je li ispitanik dan prije <b>izlazio iz kuće</b>? - <i>pitanje koje se postavljalo početnih nekoliko mjeseci pandemije</i></li>\n",
    "    <li>Koliko se, na skali od 1 do 7, ispitanik slaže da je <b>Covid-19 vrlo opasan</b> po njega?</li>"
   ]
  },
  {
   "cell_type": "markdown",
   "id": "7e56ade9",
   "metadata": {},
   "source": [
    "Prikupljanje odgovora trajalo je __kontinuirano kroz dvije godine__. Kod onih pitanja kod kojih je to moguće bilo bi zanimljivo istražiti kako su se stavovi, odnosno discipliniranost i navike stanovništva, mijenjali tijekom pandemije. Odgovori su prikupljani zasebno po državama, stoga bismo to mogli učiniti za više od jedne države, paralelno, i usporediti dobivene rezultate."
   ]
  },
  {
   "cell_type": "markdown",
   "id": "a4fcc278",
   "metadata": {},
   "source": [
    "### Dohvaćanje podataka"
   ]
  },
  {
   "cell_type": "code",
   "execution_count": 1,
   "id": "b915dd5d",
   "metadata": {},
   "outputs": [],
   "source": [
    "import pandas as pd"
   ]
  },
  {
   "cell_type": "markdown",
   "id": "96e3315d",
   "metadata": {},
   "source": [
    "Recimo da želimo napraviti usporedbu razvoja situacije u državama na različitim kontinentima: __Japanu__, __Kanadi__ i __Danskoj__.\n",
    "\n",
    "Dohvatimo __lokalno__ kopije tablica s podacima:"
   ]
  },
  {
   "cell_type": "code",
   "execution_count": 2,
   "id": "e70c669b",
   "metadata": {},
   "outputs": [
    {
     "name": "stdout",
     "output_type": "stream",
     "text": [
      "Wall time: 2.9 s\n",
      "Wall time: 6.7 s\n",
      "Wall time: 14.7 s\n"
     ]
    }
   ],
   "source": [
    "%time japan = pd.read_csv('japan.csv', low_memory=False, encoding='utf-8')\n",
    "%time canada = pd.read_csv('canada.csv', low_memory=False, encoding='utf-8')\n",
    "%time denmark = pd.read_csv('denmark.csv', low_memory=False, encoding='utf-8')"
   ]
  },
  {
   "cell_type": "code",
   "execution_count": 3,
   "id": "33b1a8a4",
   "metadata": {},
   "outputs": [
    {
     "name": "stdout",
     "output_type": "stream",
     "text": [
      "<class 'pandas.core.frame.DataFrame'>\n",
      "RangeIndex: 25997 entries, 0 to 25996\n",
      "Columns: 422 entries, RecordNo to future_3\n",
      "dtypes: float64(1), int64(2), object(419)\n",
      "memory usage: 83.7+ MB\n"
     ]
    }
   ],
   "source": [
    "japan.info()"
   ]
  },
  {
   "cell_type": "code",
   "execution_count": 4,
   "id": "2657c773",
   "metadata": {},
   "outputs": [
    {
     "name": "stdout",
     "output_type": "stream",
     "text": [
      "<class 'pandas.core.frame.DataFrame'>\n",
      "RangeIndex: 48372 entries, 0 to 48371\n",
      "Columns: 512 entries, RecordNo to future_3\n",
      "dtypes: float64(1), int64(2), object(509)\n",
      "memory usage: 189.0+ MB\n"
     ]
    }
   ],
   "source": [
    "canada.info()"
   ]
  },
  {
   "cell_type": "markdown",
   "id": "082762de",
   "metadata": {},
   "source": [
    "Prikažimo kratko kako tablice izgledaju. Uz neke osnovne informacije o samom ispunjavanju upitnika, svaki stupac u tablicama predstavlja __odgovore__ ispitanika na pojedino pitanje:"
   ]
  },
  {
   "cell_type": "code",
   "execution_count": 5,
   "id": "ff1066e4",
   "metadata": {
    "scrolled": true
   },
   "outputs": [
    {
     "data": {
      "text/html": [
       "<div>\n",
       "<style scoped>\n",
       "    .dataframe tbody tr th:only-of-type {\n",
       "        vertical-align: middle;\n",
       "    }\n",
       "\n",
       "    .dataframe tbody tr th {\n",
       "        vertical-align: top;\n",
       "    }\n",
       "\n",
       "    .dataframe thead th {\n",
       "        text-align: right;\n",
       "    }\n",
       "</style>\n",
       "<table border=\"1\" class=\"dataframe\">\n",
       "  <thead>\n",
       "    <tr style=\"text-align: right;\">\n",
       "      <th></th>\n",
       "      <th>RecordNo</th>\n",
       "      <th>endtime</th>\n",
       "      <th>qweek</th>\n",
       "      <th>gender</th>\n",
       "      <th>region</th>\n",
       "      <th>i1_health</th>\n",
       "      <th>i2_health</th>\n",
       "      <th>i7a_health</th>\n",
       "      <th>i5a_health</th>\n",
       "      <th>i6_health</th>\n",
       "      <th>...</th>\n",
       "      <th>vac_man_96</th>\n",
       "      <th>vac_man_99</th>\n",
       "      <th>q_other</th>\n",
       "      <th>had_covid</th>\n",
       "      <th>vac_boost_beyond</th>\n",
       "      <th>future_1</th>\n",
       "      <th>future_2</th>\n",
       "      <th>had_covid_2</th>\n",
       "      <th>long_covid</th>\n",
       "      <th>future_3</th>\n",
       "    </tr>\n",
       "  </thead>\n",
       "  <tbody>\n",
       "    <tr>\n",
       "      <th>0</th>\n",
       "      <td>1</td>\n",
       "      <td>02/04/2020 15:16</td>\n",
       "      <td>week 1</td>\n",
       "      <td>Male</td>\n",
       "      <td>Kantō</td>\n",
       "      <td>3</td>\n",
       "      <td>20</td>\n",
       "      <td>1</td>\n",
       "      <td></td>\n",
       "      <td></td>\n",
       "      <td>...</td>\n",
       "      <td>NaN</td>\n",
       "      <td>NaN</td>\n",
       "      <td>NaN</td>\n",
       "      <td>NaN</td>\n",
       "      <td>NaN</td>\n",
       "      <td>NaN</td>\n",
       "      <td>NaN</td>\n",
       "      <td>NaN</td>\n",
       "      <td>NaN</td>\n",
       "      <td>NaN</td>\n",
       "    </tr>\n",
       "    <tr>\n",
       "      <th>1</th>\n",
       "      <td>2</td>\n",
       "      <td>02/04/2020 15:15</td>\n",
       "      <td>week 1</td>\n",
       "      <td>Male</td>\n",
       "      <td>Kantō</td>\n",
       "      <td>1</td>\n",
       "      <td>20</td>\n",
       "      <td>1</td>\n",
       "      <td></td>\n",
       "      <td></td>\n",
       "      <td>...</td>\n",
       "      <td>NaN</td>\n",
       "      <td>NaN</td>\n",
       "      <td>NaN</td>\n",
       "      <td>NaN</td>\n",
       "      <td>NaN</td>\n",
       "      <td>NaN</td>\n",
       "      <td>NaN</td>\n",
       "      <td>NaN</td>\n",
       "      <td>NaN</td>\n",
       "      <td>NaN</td>\n",
       "    </tr>\n",
       "    <tr>\n",
       "      <th>2</th>\n",
       "      <td>3</td>\n",
       "      <td>02/04/2020 15:17</td>\n",
       "      <td>week 1</td>\n",
       "      <td>Male</td>\n",
       "      <td>Kantō</td>\n",
       "      <td>1</td>\n",
       "      <td>0</td>\n",
       "      <td>0</td>\n",
       "      <td></td>\n",
       "      <td></td>\n",
       "      <td>...</td>\n",
       "      <td>NaN</td>\n",
       "      <td>NaN</td>\n",
       "      <td>NaN</td>\n",
       "      <td>NaN</td>\n",
       "      <td>NaN</td>\n",
       "      <td>NaN</td>\n",
       "      <td>NaN</td>\n",
       "      <td>NaN</td>\n",
       "      <td>NaN</td>\n",
       "      <td>NaN</td>\n",
       "    </tr>\n",
       "  </tbody>\n",
       "</table>\n",
       "<p>3 rows × 422 columns</p>\n",
       "</div>"
      ],
      "text/plain": [
       "   RecordNo           endtime   qweek gender region i1_health i2_health  \\\n",
       "0         1  02/04/2020 15:16  week 1   Male  Kantō         3        20   \n",
       "1         2  02/04/2020 15:15  week 1   Male  Kantō         1        20   \n",
       "2         3  02/04/2020 15:17  week 1   Male  Kantō         1         0   \n",
       "\n",
       "  i7a_health i5a_health i6_health  ... vac_man_96 vac_man_99 q_other  \\\n",
       "0          1                       ...        NaN        NaN     NaN   \n",
       "1          1                       ...        NaN        NaN     NaN   \n",
       "2          0                       ...        NaN        NaN     NaN   \n",
       "\n",
       "  had_covid vac_boost_beyond future_1 future_2 had_covid_2 long_covid future_3  \n",
       "0       NaN              NaN      NaN      NaN         NaN        NaN      NaN  \n",
       "1       NaN              NaN      NaN      NaN         NaN        NaN      NaN  \n",
       "2       NaN              NaN      NaN      NaN         NaN        NaN      NaN  \n",
       "\n",
       "[3 rows x 422 columns]"
      ]
     },
     "execution_count": 5,
     "metadata": {},
     "output_type": "execute_result"
    }
   ],
   "source": [
    "japan.head(3)"
   ]
  },
  {
   "cell_type": "code",
   "execution_count": 6,
   "id": "99989676",
   "metadata": {
    "scrolled": true
   },
   "outputs": [
    {
     "data": {
      "text/html": [
       "<div>\n",
       "<style scoped>\n",
       "    .dataframe tbody tr th:only-of-type {\n",
       "        vertical-align: middle;\n",
       "    }\n",
       "\n",
       "    .dataframe tbody tr th {\n",
       "        vertical-align: top;\n",
       "    }\n",
       "\n",
       "    .dataframe thead th {\n",
       "        text-align: right;\n",
       "    }\n",
       "</style>\n",
       "<table border=\"1\" class=\"dataframe\">\n",
       "  <thead>\n",
       "    <tr style=\"text-align: right;\">\n",
       "      <th></th>\n",
       "      <th>RecordNo</th>\n",
       "      <th>endtime</th>\n",
       "      <th>qweek</th>\n",
       "      <th>i1_health</th>\n",
       "      <th>i2_health</th>\n",
       "      <th>i7a_health</th>\n",
       "      <th>i3_health</th>\n",
       "      <th>i4_health</th>\n",
       "      <th>i5_health_1</th>\n",
       "      <th>i5_health_2</th>\n",
       "      <th>...</th>\n",
       "      <th>vac_man_96</th>\n",
       "      <th>vac_man_99</th>\n",
       "      <th>q_other</th>\n",
       "      <th>had_covid</th>\n",
       "      <th>vac_boost_beyond</th>\n",
       "      <th>future_1</th>\n",
       "      <th>future_2</th>\n",
       "      <th>had_covid_2</th>\n",
       "      <th>long_covid</th>\n",
       "      <th>future_3</th>\n",
       "    </tr>\n",
       "  </thead>\n",
       "  <tbody>\n",
       "    <tr>\n",
       "      <th>0</th>\n",
       "      <td>0</td>\n",
       "      <td>02/04/2020 08:25</td>\n",
       "      <td>week 1</td>\n",
       "      <td>0</td>\n",
       "      <td>1</td>\n",
       "      <td>1</td>\n",
       "      <td>No, I have not</td>\n",
       "      <td>No, they have not</td>\n",
       "      <td>No</td>\n",
       "      <td>No</td>\n",
       "      <td>...</td>\n",
       "      <td>NaN</td>\n",
       "      <td>NaN</td>\n",
       "      <td>NaN</td>\n",
       "      <td>NaN</td>\n",
       "      <td>NaN</td>\n",
       "      <td>NaN</td>\n",
       "      <td>NaN</td>\n",
       "      <td>NaN</td>\n",
       "      <td>NaN</td>\n",
       "      <td>NaN</td>\n",
       "    </tr>\n",
       "    <tr>\n",
       "      <th>1</th>\n",
       "      <td>1</td>\n",
       "      <td>02/04/2020 08:34</td>\n",
       "      <td>week 1</td>\n",
       "      <td>0</td>\n",
       "      <td>6</td>\n",
       "      <td>0</td>\n",
       "      <td>No, I have not</td>\n",
       "      <td>No, they have not</td>\n",
       "      <td>Yes</td>\n",
       "      <td>No</td>\n",
       "      <td>...</td>\n",
       "      <td>NaN</td>\n",
       "      <td>NaN</td>\n",
       "      <td>NaN</td>\n",
       "      <td>NaN</td>\n",
       "      <td>NaN</td>\n",
       "      <td>NaN</td>\n",
       "      <td>NaN</td>\n",
       "      <td>NaN</td>\n",
       "      <td>NaN</td>\n",
       "      <td>NaN</td>\n",
       "    </tr>\n",
       "    <tr>\n",
       "      <th>2</th>\n",
       "      <td>2</td>\n",
       "      <td>02/04/2020 08:44</td>\n",
       "      <td>week 1</td>\n",
       "      <td>6</td>\n",
       "      <td>1</td>\n",
       "      <td>0</td>\n",
       "      <td>No, I have not</td>\n",
       "      <td>No, they have not</td>\n",
       "      <td>No</td>\n",
       "      <td>No</td>\n",
       "      <td>...</td>\n",
       "      <td>NaN</td>\n",
       "      <td>NaN</td>\n",
       "      <td>NaN</td>\n",
       "      <td>NaN</td>\n",
       "      <td>NaN</td>\n",
       "      <td>NaN</td>\n",
       "      <td>NaN</td>\n",
       "      <td>NaN</td>\n",
       "      <td>NaN</td>\n",
       "      <td>NaN</td>\n",
       "    </tr>\n",
       "  </tbody>\n",
       "</table>\n",
       "<p>3 rows × 512 columns</p>\n",
       "</div>"
      ],
      "text/plain": [
       "   RecordNo           endtime   qweek i1_health i2_health i7a_health  \\\n",
       "0         0  02/04/2020 08:25  week 1         0         1          1   \n",
       "1         1  02/04/2020 08:34  week 1         0         6          0   \n",
       "2         2  02/04/2020 08:44  week 1         6         1          0   \n",
       "\n",
       "        i3_health          i4_health i5_health_1 i5_health_2  ... vac_man_96  \\\n",
       "0  No, I have not  No, they have not          No          No  ...        NaN   \n",
       "1  No, I have not  No, they have not         Yes          No  ...        NaN   \n",
       "2  No, I have not  No, they have not          No          No  ...        NaN   \n",
       "\n",
       "  vac_man_99 q_other had_covid vac_boost_beyond future_1 future_2 had_covid_2  \\\n",
       "0        NaN     NaN       NaN              NaN      NaN      NaN         NaN   \n",
       "1        NaN     NaN       NaN              NaN      NaN      NaN         NaN   \n",
       "2        NaN     NaN       NaN              NaN      NaN      NaN         NaN   \n",
       "\n",
       "  long_covid future_3  \n",
       "0        NaN      NaN  \n",
       "1        NaN      NaN  \n",
       "2        NaN      NaN  \n",
       "\n",
       "[3 rows x 512 columns]"
      ]
     },
     "execution_count": 6,
     "metadata": {},
     "output_type": "execute_result"
    }
   ],
   "source": [
    "canada.head(3)"
   ]
  },
  {
   "cell_type": "markdown",
   "id": "f694ba4d",
   "metadata": {},
   "source": [
    "U tablici je svako pitanje označeno znakovnom šifrom, a njihovo značenje dostupno je u _codebooku_ kojeg je moguće preuzeti skupa s podacima."
   ]
  },
  {
   "cell_type": "markdown",
   "id": "34edc1b4",
   "metadata": {},
   "source": [
    "### Sređivanje datumâ"
   ]
  },
  {
   "cell_type": "markdown",
   "id": "10a092be",
   "metadata": {},
   "source": [
    "S obzirom na to da će nas kod nekih pitanja zanimati tijek odgovora u ovisnosti o protoku vremena, promijenit ćemo tip podataka stupca '__endtime__' u _datetime_ oblik koji je pogodniji za daljnji rad.\n",
    "\n",
    "Recimo da nas zanima kako su se odgovori mijenjali kroz mjesece, a ne kroz dane, dojma smo kako je ta granulacija optimalna. U tom slučaju možemo zanemariti dan u mjesecu te ostaviti samo __mjesec__ i __godinu__ ispunjavanja upitnika (za dan u mjesecu ćemo fiksirati `1`)."
   ]
  },
  {
   "cell_type": "markdown",
   "id": "957269f2",
   "metadata": {},
   "source": [
    "Provedimo sada postepenu pretvorbu u _datetime_ oblik. To ćemo učiniti koristeći vlastitu funkciju `pretvori` koja kao argument prima tablicu s podacima:"
   ]
  },
  {
   "cell_type": "code",
   "execution_count": 7,
   "id": "59ed7e90",
   "metadata": {},
   "outputs": [],
   "source": [
    "def pretvori(country):\n",
    "    country.insert(1, 'month', '')    # Dodavanje stupca 'month' iza stupca 'endtime'\n",
    "    country.insert(2, 'year', '')    # Dodavanje supca 'year' iza stupca 'month'\n",
    "    country['month'] = country['endtime']\n",
    "    country['year'] = country['endtime']\n",
    "    \n",
    "    month = {s: int(s[3:5]) for s in country['endtime']}\n",
    "    year = {s: int(s[6:10]) for s in country['endtime']}\n",
    "    country.replace({'month': month}, inplace=True)\n",
    "    country.replace({'year': year}, inplace=True)\n",
    "    \n",
    "    # Stvaranje stupca 'date' iza stupca 'RecordNo' (za dan u mjesecu fiksirat cemo 1):\n",
    "    country.insert(1, 'date', '')\n",
    "    country['date'] = pd.to_datetime(dict(year=country['year'], month=country['month'], day=1))\n",
    "    \n",
    "    # Brisanje zasebnih stupaca 'endtime', 'month' i 'year' koji nam vise ne trebaju:\n",
    "    del country['endtime'], country['month'], country['year']"
   ]
  },
  {
   "cell_type": "markdown",
   "id": "47f6f01c",
   "metadata": {},
   "source": [
    "Sada iskoristimo funkciju `pretvori` nad tablicama `japan`, `canada` i `denmark`.\n",
    "\n",
    "_UPOZORENJE_: _izvršavanje idućih triju naredbi zbog velike količine podataka traje i do par minuta, stoga ne preporučam restartanje kernela, kao ni izvršavanje ćelija prije ove._"
   ]
  },
  {
   "cell_type": "code",
   "execution_count": 8,
   "id": "8d9826ad",
   "metadata": {},
   "outputs": [
    {
     "name": "stdout",
     "output_type": "stream",
     "text": [
      "Wall time: 30.9 s\n",
      "Wall time: 4min 31s\n",
      "Wall time: 4min 54s\n",
      "Parser   : 136 ms\n"
     ]
    }
   ],
   "source": [
    "%time pretvori(japan)\n",
    "%time pretvori(canada)\n",
    "%time pretvori(denmark)"
   ]
  },
  {
   "cell_type": "markdown",
   "id": "0fd6198b",
   "metadata": {},
   "source": [
    "_Od ovog mjesta, izvršavanje preostalih ćelija ne traje dugo te njihovo izvršavanje ne predstavlja vremenski problem._"
   ]
  },
  {
   "cell_type": "markdown",
   "id": "8048ea01",
   "metadata": {},
   "source": [
    "Nad __sve tri tablice__ radimo jednake izmjene, stoga ćemo u nastavku povremeno prikazivati kako jedna od njih u danom trenutku izgleda:"
   ]
  },
  {
   "cell_type": "code",
   "execution_count": 9,
   "id": "625d1d62",
   "metadata": {},
   "outputs": [
    {
     "data": {
      "text/html": [
       "<div>\n",
       "<style scoped>\n",
       "    .dataframe tbody tr th:only-of-type {\n",
       "        vertical-align: middle;\n",
       "    }\n",
       "\n",
       "    .dataframe tbody tr th {\n",
       "        vertical-align: top;\n",
       "    }\n",
       "\n",
       "    .dataframe thead th {\n",
       "        text-align: right;\n",
       "    }\n",
       "</style>\n",
       "<table border=\"1\" class=\"dataframe\">\n",
       "  <thead>\n",
       "    <tr style=\"text-align: right;\">\n",
       "      <th></th>\n",
       "      <th>RecordNo</th>\n",
       "      <th>date</th>\n",
       "      <th>qweek</th>\n",
       "      <th>gender</th>\n",
       "      <th>region</th>\n",
       "      <th>i1_health</th>\n",
       "      <th>i2_health</th>\n",
       "      <th>i7a_health</th>\n",
       "      <th>i5a_health</th>\n",
       "      <th>i6_health</th>\n",
       "      <th>...</th>\n",
       "      <th>vac_man_96</th>\n",
       "      <th>vac_man_99</th>\n",
       "      <th>q_other</th>\n",
       "      <th>had_covid</th>\n",
       "      <th>vac_boost_beyond</th>\n",
       "      <th>future_1</th>\n",
       "      <th>future_2</th>\n",
       "      <th>had_covid_2</th>\n",
       "      <th>long_covid</th>\n",
       "      <th>future_3</th>\n",
       "    </tr>\n",
       "  </thead>\n",
       "  <tbody>\n",
       "    <tr>\n",
       "      <th>0</th>\n",
       "      <td>1</td>\n",
       "      <td>2020-04-01</td>\n",
       "      <td>week 1</td>\n",
       "      <td>Male</td>\n",
       "      <td>Kantō</td>\n",
       "      <td>3</td>\n",
       "      <td>20</td>\n",
       "      <td>1</td>\n",
       "      <td></td>\n",
       "      <td></td>\n",
       "      <td>...</td>\n",
       "      <td>NaN</td>\n",
       "      <td>NaN</td>\n",
       "      <td>NaN</td>\n",
       "      <td>NaN</td>\n",
       "      <td>NaN</td>\n",
       "      <td>NaN</td>\n",
       "      <td>NaN</td>\n",
       "      <td>NaN</td>\n",
       "      <td>NaN</td>\n",
       "      <td>NaN</td>\n",
       "    </tr>\n",
       "    <tr>\n",
       "      <th>1</th>\n",
       "      <td>2</td>\n",
       "      <td>2020-04-01</td>\n",
       "      <td>week 1</td>\n",
       "      <td>Male</td>\n",
       "      <td>Kantō</td>\n",
       "      <td>1</td>\n",
       "      <td>20</td>\n",
       "      <td>1</td>\n",
       "      <td></td>\n",
       "      <td></td>\n",
       "      <td>...</td>\n",
       "      <td>NaN</td>\n",
       "      <td>NaN</td>\n",
       "      <td>NaN</td>\n",
       "      <td>NaN</td>\n",
       "      <td>NaN</td>\n",
       "      <td>NaN</td>\n",
       "      <td>NaN</td>\n",
       "      <td>NaN</td>\n",
       "      <td>NaN</td>\n",
       "      <td>NaN</td>\n",
       "    </tr>\n",
       "    <tr>\n",
       "      <th>2</th>\n",
       "      <td>3</td>\n",
       "      <td>2020-04-01</td>\n",
       "      <td>week 1</td>\n",
       "      <td>Male</td>\n",
       "      <td>Kantō</td>\n",
       "      <td>1</td>\n",
       "      <td>0</td>\n",
       "      <td>0</td>\n",
       "      <td></td>\n",
       "      <td></td>\n",
       "      <td>...</td>\n",
       "      <td>NaN</td>\n",
       "      <td>NaN</td>\n",
       "      <td>NaN</td>\n",
       "      <td>NaN</td>\n",
       "      <td>NaN</td>\n",
       "      <td>NaN</td>\n",
       "      <td>NaN</td>\n",
       "      <td>NaN</td>\n",
       "      <td>NaN</td>\n",
       "      <td>NaN</td>\n",
       "    </tr>\n",
       "  </tbody>\n",
       "</table>\n",
       "<p>3 rows × 422 columns</p>\n",
       "</div>"
      ],
      "text/plain": [
       "   RecordNo       date   qweek gender region i1_health i2_health i7a_health  \\\n",
       "0         1 2020-04-01  week 1   Male  Kantō         3        20          1   \n",
       "1         2 2020-04-01  week 1   Male  Kantō         1        20          1   \n",
       "2         3 2020-04-01  week 1   Male  Kantō         1         0          0   \n",
       "\n",
       "  i5a_health i6_health  ... vac_man_96 vac_man_99 q_other had_covid  \\\n",
       "0                       ...        NaN        NaN     NaN       NaN   \n",
       "1                       ...        NaN        NaN     NaN       NaN   \n",
       "2                       ...        NaN        NaN     NaN       NaN   \n",
       "\n",
       "  vac_boost_beyond future_1 future_2 had_covid_2 long_covid future_3  \n",
       "0              NaN      NaN      NaN         NaN        NaN      NaN  \n",
       "1              NaN      NaN      NaN         NaN        NaN      NaN  \n",
       "2              NaN      NaN      NaN         NaN        NaN      NaN  \n",
       "\n",
       "[3 rows x 422 columns]"
      ]
     },
     "execution_count": 9,
     "metadata": {},
     "output_type": "execute_result"
    }
   ],
   "source": [
    "japan.head(3)"
   ]
  },
  {
   "cell_type": "markdown",
   "id": "8eaf2b5c",
   "metadata": {},
   "source": [
    "### Čišćenje podataka"
   ]
  },
  {
   "cell_type": "markdown",
   "id": "cf6ab2d1",
   "metadata": {},
   "source": [
    "Kako nam je trenutno samo nekoliko pitanja od interesa, možemo pročistiti podatke na način da u tablicama zadržimo samo stupce koji se odnose na ta pitanja. Iz _codebooka_ čitamo da se odgovori na naša pitanja nalaze u stupcima s oznakama '__i12_health_25__', '__vac_man_99__', '__WAH_2__', '__i7a_health__' te '__r1_1__', respektivno. Uz te stupce, zadržat ćemo još stupac '__endtime__' koji se odnosi na vrijeme ispunjavanja upitnika kako bismo mogli pratiti na koji način su se odgovori mijenjali kroz vrijeme. Za ovo čišćenje iskoristit ćemo vlastitu funkciju `cleanse`:"
   ]
  },
  {
   "cell_type": "code",
   "execution_count": 10,
   "id": "03fc7b3f",
   "metadata": {},
   "outputs": [],
   "source": [
    "def cleanse(country, cols):\n",
    "    for col in country.columns:    # Prolazimo po svim stupcima tablice\n",
    "        if col not in cols:    # Cols su stupci koje cemo zadrzati\n",
    "            del country[col]"
   ]
  },
  {
   "cell_type": "markdown",
   "id": "b40c14f0",
   "metadata": {},
   "source": [
    "Primijenimo funkciju `cleanse` nad tablicama:"
   ]
  },
  {
   "cell_type": "code",
   "execution_count": 11,
   "id": "686c78c2",
   "metadata": {},
   "outputs": [],
   "source": [
    "cols = set(['date', 'i12_health_25', 'vac_man_99', 'WAH_2', 'i7a_health', 'r1_1'])\n",
    "\n",
    "cleanse(japan, cols)\n",
    "cleanse(canada, cols)\n",
    "cleanse(denmark, cols)"
   ]
  },
  {
   "cell_type": "code",
   "execution_count": 12,
   "id": "93752528",
   "metadata": {
    "scrolled": true
   },
   "outputs": [
    {
     "data": {
      "text/html": [
       "<div>\n",
       "<style scoped>\n",
       "    .dataframe tbody tr th:only-of-type {\n",
       "        vertical-align: middle;\n",
       "    }\n",
       "\n",
       "    .dataframe tbody tr th {\n",
       "        vertical-align: top;\n",
       "    }\n",
       "\n",
       "    .dataframe thead th {\n",
       "        text-align: right;\n",
       "    }\n",
       "</style>\n",
       "<table border=\"1\" class=\"dataframe\">\n",
       "  <thead>\n",
       "    <tr style=\"text-align: right;\">\n",
       "      <th></th>\n",
       "      <th>date</th>\n",
       "      <th>i7a_health</th>\n",
       "      <th>i12_health_25</th>\n",
       "      <th>r1_1</th>\n",
       "      <th>WAH_2</th>\n",
       "      <th>vac_man_99</th>\n",
       "    </tr>\n",
       "  </thead>\n",
       "  <tbody>\n",
       "    <tr>\n",
       "      <th>0</th>\n",
       "      <td>2020-04-01</td>\n",
       "      <td>1</td>\n",
       "      <td></td>\n",
       "      <td></td>\n",
       "      <td>NaN</td>\n",
       "      <td>NaN</td>\n",
       "    </tr>\n",
       "    <tr>\n",
       "      <th>1</th>\n",
       "      <td>2020-04-01</td>\n",
       "      <td>1</td>\n",
       "      <td></td>\n",
       "      <td></td>\n",
       "      <td>NaN</td>\n",
       "      <td>NaN</td>\n",
       "    </tr>\n",
       "    <tr>\n",
       "      <th>2</th>\n",
       "      <td>2020-04-01</td>\n",
       "      <td>0</td>\n",
       "      <td></td>\n",
       "      <td></td>\n",
       "      <td>NaN</td>\n",
       "      <td>NaN</td>\n",
       "    </tr>\n",
       "    <tr>\n",
       "      <th>3</th>\n",
       "      <td>2020-04-01</td>\n",
       "      <td>1</td>\n",
       "      <td></td>\n",
       "      <td></td>\n",
       "      <td>NaN</td>\n",
       "      <td>NaN</td>\n",
       "    </tr>\n",
       "    <tr>\n",
       "      <th>4</th>\n",
       "      <td>2020-04-01</td>\n",
       "      <td>1</td>\n",
       "      <td></td>\n",
       "      <td></td>\n",
       "      <td>NaN</td>\n",
       "      <td>NaN</td>\n",
       "    </tr>\n",
       "    <tr>\n",
       "      <th>...</th>\n",
       "      <td>...</td>\n",
       "      <td>...</td>\n",
       "      <td>...</td>\n",
       "      <td>...</td>\n",
       "      <td>...</td>\n",
       "      <td>...</td>\n",
       "    </tr>\n",
       "    <tr>\n",
       "      <th>25992</th>\n",
       "      <td>2022-03-01</td>\n",
       "      <td></td>\n",
       "      <td>Always</td>\n",
       "      <td>1 – Disagree</td>\n",
       "      <td>I am unable to work from home</td>\n",
       "      <td>No</td>\n",
       "    </tr>\n",
       "    <tr>\n",
       "      <th>25993</th>\n",
       "      <td>2022-03-01</td>\n",
       "      <td></td>\n",
       "      <td>Always</td>\n",
       "      <td>5</td>\n",
       "      <td>3 to 4 days</td>\n",
       "      <td>No</td>\n",
       "    </tr>\n",
       "    <tr>\n",
       "      <th>25994</th>\n",
       "      <td>2022-03-01</td>\n",
       "      <td></td>\n",
       "      <td>Always</td>\n",
       "      <td>4</td>\n",
       "      <td>3 to 4 days</td>\n",
       "      <td>No</td>\n",
       "    </tr>\n",
       "    <tr>\n",
       "      <th>25995</th>\n",
       "      <td>2022-03-01</td>\n",
       "      <td></td>\n",
       "      <td>Always</td>\n",
       "      <td>7 - Agree</td>\n",
       "      <td>0 days</td>\n",
       "      <td>No</td>\n",
       "    </tr>\n",
       "    <tr>\n",
       "      <th>25996</th>\n",
       "      <td>2022-03-01</td>\n",
       "      <td></td>\n",
       "      <td>Not at all</td>\n",
       "      <td>4</td>\n",
       "      <td>5+ days</td>\n",
       "      <td>Yes</td>\n",
       "    </tr>\n",
       "  </tbody>\n",
       "</table>\n",
       "<p>25997 rows × 6 columns</p>\n",
       "</div>"
      ],
      "text/plain": [
       "            date i7a_health i12_health_25          r1_1  \\\n",
       "0     2020-04-01          1                               \n",
       "1     2020-04-01          1                               \n",
       "2     2020-04-01          0                               \n",
       "3     2020-04-01          1                               \n",
       "4     2020-04-01          1                               \n",
       "...          ...        ...           ...           ...   \n",
       "25992 2022-03-01                   Always  1 – Disagree   \n",
       "25993 2022-03-01                   Always             5   \n",
       "25994 2022-03-01                   Always             4   \n",
       "25995 2022-03-01                   Always     7 - Agree   \n",
       "25996 2022-03-01               Not at all             4   \n",
       "\n",
       "                               WAH_2 vac_man_99  \n",
       "0                                NaN        NaN  \n",
       "1                                NaN        NaN  \n",
       "2                                NaN        NaN  \n",
       "3                                NaN        NaN  \n",
       "4                                NaN        NaN  \n",
       "...                              ...        ...  \n",
       "25992  I am unable to work from home         No  \n",
       "25993                    3 to 4 days         No  \n",
       "25994                    3 to 4 days         No  \n",
       "25995                         0 days         No  \n",
       "25996                        5+ days        Yes  \n",
       "\n",
       "[25997 rows x 6 columns]"
      ]
     },
     "execution_count": 12,
     "metadata": {},
     "output_type": "execute_result"
    }
   ],
   "source": [
    "japan"
   ]
  },
  {
   "cell_type": "markdown",
   "id": "bb6b32d9",
   "metadata": {},
   "source": [
    "Uočavamo bjeline ili neke besmislene odgovore u nekoliko početnih redaka stupaca koji se odnose na naša pitanja. Razlog tome je činjenica što je početak istraživanja bio __2. travnja 2020.__, a neka pitanja koja su od našeg interesa uvedena su u upitnik globalno nešto kasnije. Primjerice, pitanje koje se odnosi na nošenje maski u javnom prijevozu uvedeno je u upitnik tek krajem __lipnja 2020.__, dok je pitanje koje se odnosi na stav oko cijepljena uvedeno tek u __zadnjih pet mjeseci istraživanja__. Stupac '__i7a_health__' odnosi se na pitanje koje je tijekom istraživanja ispušteno iz upitnika, zato je u tom stupcu nekoliko zadnjih redaka prazno."
   ]
  },
  {
   "cell_type": "markdown",
   "id": "bf8a5afd",
   "metadata": {},
   "source": [
    "### Analiza prvog pitanja"
   ]
  },
  {
   "cell_type": "markdown",
   "id": "5a66de77",
   "metadata": {},
   "source": [
    "Prisjetimo se prvog pitanja od našeg interesa:\n",
    "- Koliko često je ispitanik unazad tjedan dana nosio __zaštitnu masku za lice__ tijekom vožnje u javnom prijevozu?\n",
    "\n",
    "Mogući odgovori na ovo pitanje bili su:\n",
    "- Uvijek\n",
    "- Često\n",
    "- Ponekad\n",
    "- Rijetko\n",
    "- Nikad\n",
    "\n",
    "Prvo pitanje od interesa odnosi se na stupac '__i12_health_25__'."
   ]
  },
  {
   "cell_type": "code",
   "execution_count": 13,
   "id": "ef0327ef",
   "metadata": {
    "scrolled": false
   },
   "outputs": [
    {
     "data": {
      "text/plain": [
       "Always        19411\n",
       "               3392\n",
       "Not at all     1606\n",
       "Frequently      810\n",
       "Sometimes       515\n",
       "Rarely          263\n",
       "Name: i12_health_25, dtype: int64"
      ]
     },
     "execution_count": 13,
     "metadata": {},
     "output_type": "execute_result"
    }
   ],
   "source": [
    "japan['i12_health_25'].value_counts()"
   ]
  },
  {
   "cell_type": "markdown",
   "id": "2f3887a2",
   "metadata": {},
   "source": [
    "Vidimo da su zapisani odgovori samo _Always_, _Frequently_, _Sometimes_, _Rarely_, _Not at all_ i bjelina, nema krivo unesenih odgovora te se to na isti način može provjeriti i za preostale dvije tablice."
   ]
  },
  {
   "cell_type": "markdown",
   "id": "a0775ce2",
   "metadata": {},
   "source": [
    "Recimo da nas zanimaju udjeli ispitanika koji su na pitanje koliko su često u proteklih sedam dana nosili zaštitne maske odgovorili s \"__Uvijek__\". Za sve tri države prikazat ćemo graf udjela odgovora \"__Uvijek__\" u ovisnosti o mjesecima.\n",
    "\n",
    "Na x-osi grafa nalazit će se oznake mjeseca. Ovo pitanje bilo je uključeno u upitnik od lipnja 2020. pa sve do kraja istraživanja, stoga ćemo napraviti da x-os bude lista ['06/20', '07/20', ..., '03/22']. To ćemo elegantno postići prolaskom kroz '__date__' stupac tablice."
   ]
  },
  {
   "cell_type": "code",
   "execution_count": 14,
   "id": "4758ba5c",
   "metadata": {},
   "outputs": [],
   "source": [
    "x = []\n",
    "temp = japan.copy()    # Privremena tablica (kopija) koju cemo malo modificirati sto ce nam olaksati izradu x-osi\n",
    "temp = temp[temp['i12_health_25'] != ' ']    # Ostavljamo samo one retke (ispitanike) koji su odgovorili na ovo pitanje\n",
    "dates = sorted(set(temp['date']))   # Sortiran skup svih datuma koji se pojavljuju u tablici temp nakon reduciranja\n",
    "for i in dates:    # i je oblika '2020-06-01'\n",
    "    s = \"\"\n",
    "    s += str(i)[5:7] + \"/\"\n",
    "    s += str(i)[2:4]\n",
    "    # Dobili smo string oblika '06/20'\n",
    "    x.append(s)"
   ]
  },
  {
   "cell_type": "markdown",
   "id": "36a6412c",
   "metadata": {},
   "source": [
    "Od važnosti je bilo što smo oznake ubacivali kronološki. Naravno, sljedeća linija daje `False` jer smo podatke tipa _datetime_ konvertirali u stringove, čime se mijenja uređaj, stoga ne bismo mogli koristiti metodu `sort` za kronološko sortiranje oznaka:"
   ]
  },
  {
   "cell_type": "code",
   "execution_count": 15,
   "id": "43f02d98",
   "metadata": {},
   "outputs": [
    {
     "data": {
      "text/plain": [
       "False"
      ]
     },
     "execution_count": 15,
     "metadata": {},
     "output_type": "execute_result"
    }
   ],
   "source": [
    "y = x.copy()\n",
    "y.sort()\n",
    "y == x"
   ]
  },
  {
   "cell_type": "markdown",
   "id": "e34254ce",
   "metadata": {},
   "source": [
    "Za svaki mjesec __zasebno__ izračunat ćemo spomenuti udio, a potom ga spremiti u listu koju ćemo na kraju iskoristiti kod y-osi za crtanje grafa. Iskoristit ćemo vlastitu funkciju `mask_percentages`:"
   ]
  },
  {
   "cell_type": "code",
   "execution_count": 16,
   "id": "44847ae9",
   "metadata": {},
   "outputs": [],
   "source": [
    "def mask_percentages(country):\n",
    "    lista = []\n",
    "    \n",
    "    for i in x:    # Za svaki mjesec ...\n",
    "        temp = country.copy()    # Privremena tablica (kopija) koju cemo malo modificirati sto nam olaksava racunanje\n",
    "        temp = temp[temp['date'].dt.month == int(i[:2])]    # Potreban nam je odgovarajuci mjesec\n",
    "        temp = temp[temp['date'].dt.year == int(\"20\" + i[3:])]    # Potrebna nam je odgovarajuca godina\n",
    "\n",
    "        # U tablici temp ostavit cemo samo one ispitanike koji su odgovorili na pitanje:\n",
    "        temp = temp[temp['i12_health_25'] != ' ']\n",
    "        \n",
    "        total = len(temp.index)    # Ukupan broj ispitanika u pripadnom mjesecu\n",
    "\n",
    "        # U privremenoj tablici sada ostavljamo samo one ispitanike koji su na pitanje odgovorili s 'Always'\n",
    "        temp = temp[temp['i12_health_25'] == 'Always']\n",
    "\n",
    "        always = len(temp.index)    # Broj odgovora 'Uvijek' u pripadnom mjesecu\n",
    "\n",
    "        lista.append(always / total)    # Spremi udio za pripadni mjesec u listu\n",
    "    \n",
    "    return lista"
   ]
  },
  {
   "cell_type": "markdown",
   "id": "a8b95fe6",
   "metadata": {},
   "source": [
    "Nacrtajmo sada pripadne grafove:"
   ]
  },
  {
   "cell_type": "code",
   "execution_count": 17,
   "id": "15120dc7",
   "metadata": {
    "scrolled": false
   },
   "outputs": [
    {
     "data": {
      "image/png": "[encoded data removed]",
      "text/plain": [
       "<Figure size 1500x600 with 1 Axes>"
      ]
     },
     "execution_count": 17,
     "metadata": {},
     "output_type": "execute_result"
    }
   ],
   "source": [
    "import matplotlib.pyplot as plt\n",
    "%matplotlib agg\n",
    "\n",
    "fig, ax = plt.subplots(figsize=(15, 6))\n",
    "ax.set(title='Nošenje maski', xlabel='Mjeseci', ylabel='Postotci')\n",
    "ax.plot(x, mask_percentages(japan), label='Japan', color='grey', marker='o')\n",
    "ax.plot(x, mask_percentages(canada), label='Canada', color='orange', marker='o')\n",
    "ax.plot(x, mask_percentages(denmark), label='Denmark', color='red', marker='o')\n",
    "ax.legend(loc='best')\n",
    "fig"
   ]
  },
  {
   "cell_type": "markdown",
   "id": "a3bc628c",
   "metadata": {},
   "source": [
    "### Analiza drugog pitanja"
   ]
  },
  {
   "cell_type": "markdown",
   "id": "d7969961",
   "metadata": {},
   "source": [
    "Drugo pitanje od našeg interesa glasilo je:\n",
    "- Slaže li se ispitanik s tvrdnjom da cjepivo protiv Covida-19 __ne bi__ trebalo biti obavezno, ni za koga?\n",
    "\n",
    "Na pitanje se odgovaralo sa '__da__' i '__ne__'. Ovo pitanje bilo je postavljano samo nekoliko zadnjih mjeseci istraživanja"
   ]
  },
  {
   "cell_type": "code",
   "execution_count": 18,
   "id": "0c8f1a98",
   "metadata": {
    "scrolled": false
   },
   "outputs": [
    {
     "data": {
      "text/html": [
       "<div>\n",
       "<style scoped>\n",
       "    .dataframe tbody tr th:only-of-type {\n",
       "        vertical-align: middle;\n",
       "    }\n",
       "\n",
       "    .dataframe tbody tr th {\n",
       "        vertical-align: top;\n",
       "    }\n",
       "\n",
       "    .dataframe thead th {\n",
       "        text-align: right;\n",
       "    }\n",
       "</style>\n",
       "<table border=\"1\" class=\"dataframe\">\n",
       "  <thead>\n",
       "    <tr style=\"text-align: right;\">\n",
       "      <th></th>\n",
       "      <th>date</th>\n",
       "      <th>i7a_health</th>\n",
       "      <th>i12_health_25</th>\n",
       "      <th>r1_1</th>\n",
       "      <th>WAH_2</th>\n",
       "      <th>vac_man_99</th>\n",
       "    </tr>\n",
       "  </thead>\n",
       "  <tbody>\n",
       "    <tr>\n",
       "      <th>0</th>\n",
       "      <td>2020-04-01</td>\n",
       "      <td>1</td>\n",
       "      <td></td>\n",
       "      <td></td>\n",
       "      <td>NaN</td>\n",
       "      <td>NaN</td>\n",
       "    </tr>\n",
       "    <tr>\n",
       "      <th>1</th>\n",
       "      <td>2020-04-01</td>\n",
       "      <td>1</td>\n",
       "      <td></td>\n",
       "      <td></td>\n",
       "      <td>NaN</td>\n",
       "      <td>NaN</td>\n",
       "    </tr>\n",
       "    <tr>\n",
       "      <th>2</th>\n",
       "      <td>2020-04-01</td>\n",
       "      <td>0</td>\n",
       "      <td></td>\n",
       "      <td></td>\n",
       "      <td>NaN</td>\n",
       "      <td>NaN</td>\n",
       "    </tr>\n",
       "    <tr>\n",
       "      <th>3</th>\n",
       "      <td>2020-04-01</td>\n",
       "      <td>1</td>\n",
       "      <td></td>\n",
       "      <td></td>\n",
       "      <td>NaN</td>\n",
       "      <td>NaN</td>\n",
       "    </tr>\n",
       "    <tr>\n",
       "      <th>4</th>\n",
       "      <td>2020-04-01</td>\n",
       "      <td>1</td>\n",
       "      <td></td>\n",
       "      <td></td>\n",
       "      <td>NaN</td>\n",
       "      <td>NaN</td>\n",
       "    </tr>\n",
       "    <tr>\n",
       "      <th>...</th>\n",
       "      <td>...</td>\n",
       "      <td>...</td>\n",
       "      <td>...</td>\n",
       "      <td>...</td>\n",
       "      <td>...</td>\n",
       "      <td>...</td>\n",
       "    </tr>\n",
       "    <tr>\n",
       "      <th>25992</th>\n",
       "      <td>2022-03-01</td>\n",
       "      <td></td>\n",
       "      <td>Always</td>\n",
       "      <td>1 – Disagree</td>\n",
       "      <td>I am unable to work from home</td>\n",
       "      <td>No</td>\n",
       "    </tr>\n",
       "    <tr>\n",
       "      <th>25993</th>\n",
       "      <td>2022-03-01</td>\n",
       "      <td></td>\n",
       "      <td>Always</td>\n",
       "      <td>5</td>\n",
       "      <td>3 to 4 days</td>\n",
       "      <td>No</td>\n",
       "    </tr>\n",
       "    <tr>\n",
       "      <th>25994</th>\n",
       "      <td>2022-03-01</td>\n",
       "      <td></td>\n",
       "      <td>Always</td>\n",
       "      <td>4</td>\n",
       "      <td>3 to 4 days</td>\n",
       "      <td>No</td>\n",
       "    </tr>\n",
       "    <tr>\n",
       "      <th>25995</th>\n",
       "      <td>2022-03-01</td>\n",
       "      <td></td>\n",
       "      <td>Always</td>\n",
       "      <td>7 - Agree</td>\n",
       "      <td>0 days</td>\n",
       "      <td>No</td>\n",
       "    </tr>\n",
       "    <tr>\n",
       "      <th>25996</th>\n",
       "      <td>2022-03-01</td>\n",
       "      <td></td>\n",
       "      <td>Not at all</td>\n",
       "      <td>4</td>\n",
       "      <td>5+ days</td>\n",
       "      <td>Yes</td>\n",
       "    </tr>\n",
       "  </tbody>\n",
       "</table>\n",
       "<p>25997 rows × 6 columns</p>\n",
       "</div>"
      ],
      "text/plain": [
       "            date i7a_health i12_health_25          r1_1  \\\n",
       "0     2020-04-01          1                               \n",
       "1     2020-04-01          1                               \n",
       "2     2020-04-01          0                               \n",
       "3     2020-04-01          1                               \n",
       "4     2020-04-01          1                               \n",
       "...          ...        ...           ...           ...   \n",
       "25992 2022-03-01                   Always  1 – Disagree   \n",
       "25993 2022-03-01                   Always             5   \n",
       "25994 2022-03-01                   Always             4   \n",
       "25995 2022-03-01                   Always     7 - Agree   \n",
       "25996 2022-03-01               Not at all             4   \n",
       "\n",
       "                               WAH_2 vac_man_99  \n",
       "0                                NaN        NaN  \n",
       "1                                NaN        NaN  \n",
       "2                                NaN        NaN  \n",
       "3                                NaN        NaN  \n",
       "4                                NaN        NaN  \n",
       "...                              ...        ...  \n",
       "25992  I am unable to work from home         No  \n",
       "25993                    3 to 4 days         No  \n",
       "25994                    3 to 4 days         No  \n",
       "25995                         0 days         No  \n",
       "25996                        5+ days        Yes  \n",
       "\n",
       "[25997 rows x 6 columns]"
      ]
     },
     "execution_count": 18,
     "metadata": {},
     "output_type": "execute_result"
    }
   ],
   "source": [
    "japan"
   ]
  },
  {
   "cell_type": "markdown",
   "id": "3f67fb78",
   "metadata": {},
   "source": [
    "Odgovori na ovo pitanje kriju se pod stupcem '__vac_man_99__'."
   ]
  },
  {
   "cell_type": "markdown",
   "id": "3901fdfb",
   "metadata": {},
   "source": [
    "Opet, kao i kod analize prvog pitanja, korištenjem metode `value_counts` lako potvrdimo da nema krivo unešenih odgovora, odnosno da su zapisani samo odgovori _Yes_ i _No_."
   ]
  },
  {
   "cell_type": "code",
   "execution_count": 19,
   "id": "137633ef",
   "metadata": {
    "scrolled": true
   },
   "outputs": [
    {
     "data": {
      "text/plain": [
       "No     3088\n",
       "Yes     926\n",
       "Name: vac_man_99, dtype: int64"
      ]
     },
     "execution_count": 19,
     "metadata": {},
     "output_type": "execute_result"
    }
   ],
   "source": [
    "japan['vac_man_99'].value_counts()"
   ]
  },
  {
   "cell_type": "markdown",
   "id": "568ff63c",
   "metadata": {},
   "source": [
    "Retke u kojima je zapisano _NaN_ metoda `value_counts` očito zanemaruje."
   ]
  },
  {
   "cell_type": "markdown",
   "id": "89f687ba",
   "metadata": {},
   "source": [
    "Izračunajmo udjele odgovora 'Yes' te prikažimo odnose tih udjela:"
   ]
  },
  {
   "cell_type": "code",
   "execution_count": 20,
   "id": "d3070ca2",
   "metadata": {},
   "outputs": [
    {
     "data": {
      "image/png": "[encoded data removed]",
      "text/plain": [
       "<Figure size 1500x500 with 1 Axes>"
      ]
     },
     "execution_count": 20,
     "metadata": {},
     "output_type": "execute_result"
    }
   ],
   "source": [
    "jpn = japan['vac_man_99'].value_counts()\n",
    "can = canada['vac_man_99'].value_counts()\n",
    "den = denmark['vac_man_99'].value_counts()\n",
    "\n",
    "udjeli = {\n",
    "    'Japan': jpn[1] / (jpn[0] + jpn[1]),\n",
    "    'Canada': can[1] / (can[0] + can[1]),\n",
    "    'Denmark': den[1] / (den[0] + den[1])\n",
    "}\n",
    "\n",
    "with plt.style.context('seaborn'):\n",
    "    fig, dr = plt.subplots(figsize=(15, 5))\n",
    "    dr.set(xlabel='Postotci')\n",
    "    dr.barh(list(udjeli.keys()), list(udjeli.values()))\n",
    "fig"
   ]
  },
  {
   "cell_type": "markdown",
   "id": "8ba4968d",
   "metadata": {},
   "source": [
    "### Analiza trećeg pitanja"
   ]
  },
  {
   "cell_type": "markdown",
   "id": "af8c6f0e",
   "metadata": {},
   "source": [
    "Treće pitanje koje promatramo je:\n",
    "- Koliko dana tjedno (u prosjeku) je ispitanik unazad mjesec dana __radio od kuće__?\n",
    "\n",
    "Ovo pitanje bilo je postavljano samo u __listopadu 2021.__ i odnosi se na stupac '__WAH_2__'."
   ]
  },
  {
   "cell_type": "code",
   "execution_count": 21,
   "id": "2e2a1e13",
   "metadata": {
    "scrolled": true
   },
   "outputs": [
    {
     "data": {
      "text/html": [
       "<div>\n",
       "<style scoped>\n",
       "    .dataframe tbody tr th:only-of-type {\n",
       "        vertical-align: middle;\n",
       "    }\n",
       "\n",
       "    .dataframe tbody tr th {\n",
       "        vertical-align: top;\n",
       "    }\n",
       "\n",
       "    .dataframe thead th {\n",
       "        text-align: right;\n",
       "    }\n",
       "</style>\n",
       "<table border=\"1\" class=\"dataframe\">\n",
       "  <thead>\n",
       "    <tr style=\"text-align: right;\">\n",
       "      <th></th>\n",
       "      <th>date</th>\n",
       "      <th>i7a_health</th>\n",
       "      <th>i12_health_25</th>\n",
       "      <th>r1_1</th>\n",
       "      <th>WAH_2</th>\n",
       "      <th>vac_man_99</th>\n",
       "    </tr>\n",
       "  </thead>\n",
       "  <tbody>\n",
       "    <tr>\n",
       "      <th>0</th>\n",
       "      <td>2020-04-01</td>\n",
       "      <td>1</td>\n",
       "      <td></td>\n",
       "      <td></td>\n",
       "      <td>NaN</td>\n",
       "      <td>NaN</td>\n",
       "    </tr>\n",
       "    <tr>\n",
       "      <th>1</th>\n",
       "      <td>2020-04-01</td>\n",
       "      <td>1</td>\n",
       "      <td></td>\n",
       "      <td></td>\n",
       "      <td>NaN</td>\n",
       "      <td>NaN</td>\n",
       "    </tr>\n",
       "    <tr>\n",
       "      <th>2</th>\n",
       "      <td>2020-04-01</td>\n",
       "      <td>0</td>\n",
       "      <td></td>\n",
       "      <td></td>\n",
       "      <td>NaN</td>\n",
       "      <td>NaN</td>\n",
       "    </tr>\n",
       "    <tr>\n",
       "      <th>3</th>\n",
       "      <td>2020-04-01</td>\n",
       "      <td>1</td>\n",
       "      <td></td>\n",
       "      <td></td>\n",
       "      <td>NaN</td>\n",
       "      <td>NaN</td>\n",
       "    </tr>\n",
       "    <tr>\n",
       "      <th>4</th>\n",
       "      <td>2020-04-01</td>\n",
       "      <td>1</td>\n",
       "      <td></td>\n",
       "      <td></td>\n",
       "      <td>NaN</td>\n",
       "      <td>NaN</td>\n",
       "    </tr>\n",
       "    <tr>\n",
       "      <th>...</th>\n",
       "      <td>...</td>\n",
       "      <td>...</td>\n",
       "      <td>...</td>\n",
       "      <td>...</td>\n",
       "      <td>...</td>\n",
       "      <td>...</td>\n",
       "    </tr>\n",
       "    <tr>\n",
       "      <th>25992</th>\n",
       "      <td>2022-03-01</td>\n",
       "      <td></td>\n",
       "      <td>Always</td>\n",
       "      <td>1 – Disagree</td>\n",
       "      <td>I am unable to work from home</td>\n",
       "      <td>No</td>\n",
       "    </tr>\n",
       "    <tr>\n",
       "      <th>25993</th>\n",
       "      <td>2022-03-01</td>\n",
       "      <td></td>\n",
       "      <td>Always</td>\n",
       "      <td>5</td>\n",
       "      <td>3 to 4 days</td>\n",
       "      <td>No</td>\n",
       "    </tr>\n",
       "    <tr>\n",
       "      <th>25994</th>\n",
       "      <td>2022-03-01</td>\n",
       "      <td></td>\n",
       "      <td>Always</td>\n",
       "      <td>4</td>\n",
       "      <td>3 to 4 days</td>\n",
       "      <td>No</td>\n",
       "    </tr>\n",
       "    <tr>\n",
       "      <th>25995</th>\n",
       "      <td>2022-03-01</td>\n",
       "      <td></td>\n",
       "      <td>Always</td>\n",
       "      <td>7 - Agree</td>\n",
       "      <td>0 days</td>\n",
       "      <td>No</td>\n",
       "    </tr>\n",
       "    <tr>\n",
       "      <th>25996</th>\n",
       "      <td>2022-03-01</td>\n",
       "      <td></td>\n",
       "      <td>Not at all</td>\n",
       "      <td>4</td>\n",
       "      <td>5+ days</td>\n",
       "      <td>Yes</td>\n",
       "    </tr>\n",
       "  </tbody>\n",
       "</table>\n",
       "<p>25997 rows × 6 columns</p>\n",
       "</div>"
      ],
      "text/plain": [
       "            date i7a_health i12_health_25          r1_1  \\\n",
       "0     2020-04-01          1                               \n",
       "1     2020-04-01          1                               \n",
       "2     2020-04-01          0                               \n",
       "3     2020-04-01          1                               \n",
       "4     2020-04-01          1                               \n",
       "...          ...        ...           ...           ...   \n",
       "25992 2022-03-01                   Always  1 – Disagree   \n",
       "25993 2022-03-01                   Always             5   \n",
       "25994 2022-03-01                   Always             4   \n",
       "25995 2022-03-01                   Always     7 - Agree   \n",
       "25996 2022-03-01               Not at all             4   \n",
       "\n",
       "                               WAH_2 vac_man_99  \n",
       "0                                NaN        NaN  \n",
       "1                                NaN        NaN  \n",
       "2                                NaN        NaN  \n",
       "3                                NaN        NaN  \n",
       "4                                NaN        NaN  \n",
       "...                              ...        ...  \n",
       "25992  I am unable to work from home         No  \n",
       "25993                    3 to 4 days         No  \n",
       "25994                    3 to 4 days         No  \n",
       "25995                         0 days         No  \n",
       "25996                        5+ days        Yes  \n",
       "\n",
       "[25997 rows x 6 columns]"
      ]
     },
     "execution_count": 21,
     "metadata": {},
     "output_type": "execute_result"
    }
   ],
   "source": [
    "japan"
   ]
  },
  {
   "cell_type": "code",
   "execution_count": 22,
   "id": "4d4156d9",
   "metadata": {
    "scrolled": true
   },
   "outputs": [
    {
     "data": {
      "text/plain": [
       "                                 5569\n",
       "0 days                            313\n",
       "I am unable to work from home     289\n",
       "5+ days                           123\n",
       "1 to 2 days                       123\n",
       "3 to 4 days                       112\n",
       "Name: WAH_2, dtype: int64"
      ]
     },
     "execution_count": 22,
     "metadata": {},
     "output_type": "execute_result"
    }
   ],
   "source": [
    "japan['WAH_2'].value_counts()"
   ]
  },
  {
   "cell_type": "markdown",
   "id": "f6e081ff",
   "metadata": {},
   "source": [
    "Vidimo broj pojedinih odgovora, nema krivo unesenih odgovora i opet na isti način to možemo provjeriti za preostale dvije tablice. Kao i ranije, __bjeline__ označavaju one ispitanike kojima ovo pitanje nije bilo postavljeno."
   ]
  },
  {
   "cell_type": "markdown",
   "id": "be6447a8",
   "metadata": {},
   "source": [
    "Recimo da nas zanimaju udjeli onih ispitanika su u potpunosti radili od kuće. Promatrat ćemo udjele odgovora \"__5 ili više dana__\". Izračunajmo udjele tih odgovora u ukupnom broju odgovora, slično kao i kod analize drugog pitanja. Definiramo funkciju `wah_percentages` koja za danu državu računa udio:"
   ]
  },
  {
   "cell_type": "code",
   "execution_count": 23,
   "id": "5aac393f",
   "metadata": {},
   "outputs": [],
   "source": [
    "def percentage(country):  \n",
    "    total = 0    # Varijabla u kojoj ce biti ukupan broj ispitanika koji su odgovorili na pitanje\n",
    "    # U tablici temp ostavit cemo samo one ispitanike koji su odgovorili na pitanje:\n",
    "    for i in range(1, len(japan['WAH_2'].value_counts())): \n",
    "        total += japan['WAH_2'].value_counts()[i]\n",
    "           \n",
    "    # U privremenoj tablici temp sada ostavljamo samo one ispitanike koji su na pitanje odgovorili s '5+ days'\n",
    "    temp = country.copy()\n",
    "    temp = temp[temp['WAH_2'] == '5+ days']\n",
    "    \n",
    "    amount = len(temp.index)    # Broj odgovora '5+ days'\n",
    "    \n",
    "    return amount / total"
   ]
  },
  {
   "cell_type": "markdown",
   "id": "8953b9c3",
   "metadata": {},
   "source": [
    "Izračunajmo udjele i prikažemo odnose tih udjela:"
   ]
  },
  {
   "cell_type": "code",
   "execution_count": 24,
   "id": "a84072bf",
   "metadata": {},
   "outputs": [
    {
     "data": {
      "image/png": "[encoded data removed]",
      "text/plain": [
       "<Figure size 1500x500 with 1 Axes>"
      ]
     },
     "execution_count": 24,
     "metadata": {},
     "output_type": "execute_result"
    }
   ],
   "source": [
    "udjeli = {\n",
    "    'Japan': percentage(japan),\n",
    "    'Canada': percentage(canada),\n",
    "    'Denmark': percentage(denmark)\n",
    "}\n",
    "\n",
    "with plt.style.context('seaborn'):\n",
    "    fig, dr = plt.subplots(figsize=(15, 5))\n",
    "    dr.set(title='Work At Home', xlabel='Postotci')\n",
    "    dr.barh(list(udjeli.keys()), list(udjeli.values()))\n",
    "fig"
   ]
  },
  {
   "cell_type": "markdown",
   "id": "e45d73cb",
   "metadata": {},
   "source": [
    "### Analiza četvrtog pitanja"
   ]
  },
  {
   "cell_type": "markdown",
   "id": "c517ea8e",
   "metadata": {},
   "source": [
    "Četvrto pitanje koje promatramo je:\n",
    "- Koliko je ispitanik dan prije __izlazio iz kuće__?\n",
    "\n",
    "Ovo pitanje nekako najviše smisla ima u začetku pandemije, odnosno u vrijeme _lockdowna_. Zato se je i postavljalo u prvoj polovici istraživanja, do, uključno, __srpnja 2021.__\n",
    "\n",
    "Odnosi se na stupac '__i7a_health__', a mogući odgovori bili su cijeli brojevi u rasponu od 0 do 100."
   ]
  },
  {
   "cell_type": "code",
   "execution_count": 25,
   "id": "5f348e43",
   "metadata": {},
   "outputs": [
    {
     "data": {
      "text/html": [
       "<div>\n",
       "<style scoped>\n",
       "    .dataframe tbody tr th:only-of-type {\n",
       "        vertical-align: middle;\n",
       "    }\n",
       "\n",
       "    .dataframe tbody tr th {\n",
       "        vertical-align: top;\n",
       "    }\n",
       "\n",
       "    .dataframe thead th {\n",
       "        text-align: right;\n",
       "    }\n",
       "</style>\n",
       "<table border=\"1\" class=\"dataframe\">\n",
       "  <thead>\n",
       "    <tr style=\"text-align: right;\">\n",
       "      <th></th>\n",
       "      <th>date</th>\n",
       "      <th>i7a_health</th>\n",
       "      <th>i12_health_25</th>\n",
       "      <th>r1_1</th>\n",
       "      <th>WAH_2</th>\n",
       "      <th>vac_man_99</th>\n",
       "    </tr>\n",
       "  </thead>\n",
       "  <tbody>\n",
       "    <tr>\n",
       "      <th>0</th>\n",
       "      <td>2020-04-01</td>\n",
       "      <td>1</td>\n",
       "      <td></td>\n",
       "      <td></td>\n",
       "      <td>NaN</td>\n",
       "      <td>NaN</td>\n",
       "    </tr>\n",
       "    <tr>\n",
       "      <th>1</th>\n",
       "      <td>2020-04-01</td>\n",
       "      <td>1</td>\n",
       "      <td></td>\n",
       "      <td></td>\n",
       "      <td>NaN</td>\n",
       "      <td>NaN</td>\n",
       "    </tr>\n",
       "    <tr>\n",
       "      <th>2</th>\n",
       "      <td>2020-04-01</td>\n",
       "      <td>0</td>\n",
       "      <td></td>\n",
       "      <td></td>\n",
       "      <td>NaN</td>\n",
       "      <td>NaN</td>\n",
       "    </tr>\n",
       "    <tr>\n",
       "      <th>3</th>\n",
       "      <td>2020-04-01</td>\n",
       "      <td>1</td>\n",
       "      <td></td>\n",
       "      <td></td>\n",
       "      <td>NaN</td>\n",
       "      <td>NaN</td>\n",
       "    </tr>\n",
       "    <tr>\n",
       "      <th>4</th>\n",
       "      <td>2020-04-01</td>\n",
       "      <td>1</td>\n",
       "      <td></td>\n",
       "      <td></td>\n",
       "      <td>NaN</td>\n",
       "      <td>NaN</td>\n",
       "    </tr>\n",
       "    <tr>\n",
       "      <th>...</th>\n",
       "      <td>...</td>\n",
       "      <td>...</td>\n",
       "      <td>...</td>\n",
       "      <td>...</td>\n",
       "      <td>...</td>\n",
       "      <td>...</td>\n",
       "    </tr>\n",
       "    <tr>\n",
       "      <th>25992</th>\n",
       "      <td>2022-03-01</td>\n",
       "      <td></td>\n",
       "      <td>Always</td>\n",
       "      <td>1 – Disagree</td>\n",
       "      <td>I am unable to work from home</td>\n",
       "      <td>No</td>\n",
       "    </tr>\n",
       "    <tr>\n",
       "      <th>25993</th>\n",
       "      <td>2022-03-01</td>\n",
       "      <td></td>\n",
       "      <td>Always</td>\n",
       "      <td>5</td>\n",
       "      <td>3 to 4 days</td>\n",
       "      <td>No</td>\n",
       "    </tr>\n",
       "    <tr>\n",
       "      <th>25994</th>\n",
       "      <td>2022-03-01</td>\n",
       "      <td></td>\n",
       "      <td>Always</td>\n",
       "      <td>4</td>\n",
       "      <td>3 to 4 days</td>\n",
       "      <td>No</td>\n",
       "    </tr>\n",
       "    <tr>\n",
       "      <th>25995</th>\n",
       "      <td>2022-03-01</td>\n",
       "      <td></td>\n",
       "      <td>Always</td>\n",
       "      <td>7 - Agree</td>\n",
       "      <td>0 days</td>\n",
       "      <td>No</td>\n",
       "    </tr>\n",
       "    <tr>\n",
       "      <th>25996</th>\n",
       "      <td>2022-03-01</td>\n",
       "      <td></td>\n",
       "      <td>Not at all</td>\n",
       "      <td>4</td>\n",
       "      <td>5+ days</td>\n",
       "      <td>Yes</td>\n",
       "    </tr>\n",
       "  </tbody>\n",
       "</table>\n",
       "<p>25997 rows × 6 columns</p>\n",
       "</div>"
      ],
      "text/plain": [
       "            date i7a_health i12_health_25          r1_1  \\\n",
       "0     2020-04-01          1                               \n",
       "1     2020-04-01          1                               \n",
       "2     2020-04-01          0                               \n",
       "3     2020-04-01          1                               \n",
       "4     2020-04-01          1                               \n",
       "...          ...        ...           ...           ...   \n",
       "25992 2022-03-01                   Always  1 – Disagree   \n",
       "25993 2022-03-01                   Always             5   \n",
       "25994 2022-03-01                   Always             4   \n",
       "25995 2022-03-01                   Always     7 - Agree   \n",
       "25996 2022-03-01               Not at all             4   \n",
       "\n",
       "                               WAH_2 vac_man_99  \n",
       "0                                NaN        NaN  \n",
       "1                                NaN        NaN  \n",
       "2                                NaN        NaN  \n",
       "3                                NaN        NaN  \n",
       "4                                NaN        NaN  \n",
       "...                              ...        ...  \n",
       "25992  I am unable to work from home         No  \n",
       "25993                    3 to 4 days         No  \n",
       "25994                    3 to 4 days         No  \n",
       "25995                         0 days         No  \n",
       "25996                        5+ days        Yes  \n",
       "\n",
       "[25997 rows x 6 columns]"
      ]
     },
     "execution_count": 25,
     "metadata": {},
     "output_type": "execute_result"
    }
   ],
   "source": [
    "japan"
   ]
  },
  {
   "cell_type": "code",
   "execution_count": 26,
   "id": "69bb925e",
   "metadata": {
    "scrolled": true
   },
   "outputs": [
    {
     "data": {
      "text/plain": [
       "       9066\n",
       "1      8608\n",
       "2      3330\n",
       "0      2830\n",
       "3      1061\n",
       "5       388\n",
       "4       281\n",
       "7       188\n",
       "6        95\n",
       "10       49\n",
       "8        21\n",
       "15       10\n",
       "20        7\n",
       "100       7\n",
       "30        6\n",
       "9         6\n",
       "14        5\n",
       "25        3\n",
       "23        3\n",
       "22        3\n",
       "12        3\n",
       "11        2\n",
       "13        2\n",
       "50        2\n",
       "90        2\n",
       "80        2\n",
       "99        2\n",
       "71        1\n",
       "65        1\n",
       "17        1\n",
       "18        1\n",
       "52        1\n",
       "70        1\n",
       "28        1\n",
       "16        1\n",
       "51        1\n",
       "55        1\n",
       "46        1\n",
       "19        1\n",
       "38        1\n",
       "32        1\n",
       "34        1\n",
       "Name: i7a_health, dtype: int64"
      ]
     },
     "execution_count": 26,
     "metadata": {},
     "output_type": "execute_result"
    }
   ],
   "source": [
    "japan['i7a_health'].value_counts()"
   ]
  },
  {
   "cell_type": "markdown",
   "id": "828865bc",
   "metadata": {},
   "source": [
    "Recimo da nas zanimaju udjeli ispitanika koji su na ovo pitanje odgovorili s \"__0__\", odnosno onih ispitanika koji dan prije nisu izlazili iz kuće. Za sve tri države prikazat ćemo graf udjela odgovora \"__0__\" u ovisnosti o mjesecima, kao i kod analize prvog pitanja. U vrijeme _lockdowna_ prirodno je očekivati veći udio takvih odgovora.\n",
    "\n",
    "Na x-osi grafa nalazit će se oznake mjeseca. Ovo pitanje bilo je uključeno u upitnik od početka istraživanja, odnosno __travnja 2020.__ pa do kraja __srpnja 2021.__\n",
    "\n",
    "Napravit ćemo da x-os bude lista ['04/20', '07/20', ..., '07/21']. To ćemo opet elegantno postići prolaskom kroz '__date__' stupac tablice."
   ]
  },
  {
   "cell_type": "code",
   "execution_count": 27,
   "id": "0301e9ac",
   "metadata": {},
   "outputs": [],
   "source": [
    "x.clear()\n",
    "temp = japan.copy()    # Privremena tablica (kopija) koju cemo malo modificirati sto ce nam olaksati izradu x-osi\n",
    "temp = temp[temp['i7a_health'] != ' ']    # Ostavljamo samo one retke (ispitanike) koji su odgovorili na ovo pitanje\n",
    "dates = sorted(set(temp['date']))   # Sortiran skup svih datuma koji se pojavljuju u tablici temp nakon reduciranja\n",
    "for i in dates:    # i je oblika '2020-04-01'\n",
    "    s = \"\"\n",
    "    s += str(i)[5:7] + \"/\"\n",
    "    s += str(i)[2:4]\n",
    "    # Dobili smo string oblika '04/20'\n",
    "    x.append(s)"
   ]
  },
  {
   "cell_type": "markdown",
   "id": "28b03c65",
   "metadata": {},
   "source": [
    "Posljednji mjesec u kojem je ovo pitanje postojalo u upitniku možemo zanemariti zbog mogućeg premalog uzorka u odnosu na ostale mjesece:"
   ]
  },
  {
   "cell_type": "code",
   "execution_count": 28,
   "id": "30aade1b",
   "metadata": {},
   "outputs": [
    {
     "data": {
      "text/plain": [
       "'07/21'"
      ]
     },
     "execution_count": 28,
     "metadata": {},
     "output_type": "execute_result"
    }
   ],
   "source": [
    "x.pop()"
   ]
  },
  {
   "cell_type": "markdown",
   "id": "acc7d156",
   "metadata": {},
   "source": [
    "Za svaki mjesec __zasebno__ izračunat ćemo spomenuti udio, a potom ga spremiti u listu koju ćemo na kraju iskoristiti kod y-osi za crtanje grafa. Iskoristit ćemo vlastitu funkciju `exit_percentages`:"
   ]
  },
  {
   "cell_type": "code",
   "execution_count": 29,
   "id": "9b44e50c",
   "metadata": {},
   "outputs": [],
   "source": [
    "def exit_percentages(country):\n",
    "    lista = []\n",
    "    \n",
    "    for i in x:    # Za svaki mjesec ...\n",
    "        temp = country.copy()    # Privremena tablica (kopija) koju cemo malo modificirati sto nam olaksava racunanje\n",
    "        temp = temp[temp['date'].dt.month == int(i[:2])]    # Potreban nam je odgovarajuci mjesec\n",
    "        temp = temp[temp['date'].dt.year == int(\"20\" + i[3:])]    # Potrebna nam je odgovarajuca godina\n",
    "\n",
    "        # U tablici temp ostavit cemo samo one ispitanike koji su odgovorili na pitanje:\n",
    "        temp = temp[temp['i7a_health'] != ' ']\n",
    "        \n",
    "        total = len(temp.index)    # Ukupan broj ispitanika u pripadnom mjesecu\n",
    "\n",
    "        # U privremenoj tablici sada ostavljamo samo one ispitanike koji su na pitanje odgovorili s '0'\n",
    "        temp = temp[temp['i7a_health'] == '0']\n",
    "\n",
    "        always = len(temp.index)    # Broj odgovora '0' u pripadnom mjesecu\n",
    "\n",
    "        lista.append(always / total)    # Spremi udio za pripadni mjesec u listu\n",
    "    \n",
    "    return lista"
   ]
  },
  {
   "cell_type": "markdown",
   "id": "2262703f",
   "metadata": {},
   "source": [
    "Nacrtajmo sada pripadne grafove:"
   ]
  },
  {
   "cell_type": "code",
   "execution_count": 30,
   "id": "965f8e78",
   "metadata": {
    "scrolled": false
   },
   "outputs": [
    {
     "data": {
      "image/png": "[encoded data removed]",
      "text/plain": [
       "<Figure size 1500x600 with 1 Axes>"
      ]
     },
     "execution_count": 30,
     "metadata": {},
     "output_type": "execute_result"
    }
   ],
   "source": [
    "import matplotlib.pyplot as plt\n",
    "%matplotlib agg\n",
    "\n",
    "fig, ax = plt.subplots(figsize=(15, 6))\n",
    "ax.set(xlabel='Mjeseci', ylabel='Postotci')\n",
    "ax.plot(x, exit_percentages(japan), label='Japan', color='grey', marker='o')\n",
    "ax.plot(x, exit_percentages(canada), label='Canada', color='orange', marker='o')\n",
    "ax.plot(x, exit_percentages(denmark), label='Denmark', color='red', marker='o')\n",
    "ax.legend(loc='best')\n",
    "fig"
   ]
  },
  {
   "cell_type": "markdown",
   "id": "bfc1d6ab",
   "metadata": {},
   "source": [
    "Zaista, uočavamo manji udio odgovora '__0__' u vrijeme ljetnih mjeseci, a nešto veći udio odgovora '__0__' tijekom zimskih mjeseci (i lošijih pandemijskih brojki)."
   ]
  },
  {
   "cell_type": "markdown",
   "id": "127b01c8",
   "metadata": {},
   "source": [
    "### Analiza petog pitanja"
   ]
  },
  {
   "cell_type": "markdown",
   "id": "fa36b686",
   "metadata": {},
   "source": [
    "Za kraj, peto pitanje od našeg interesa je:\n",
    "- Koliko se, na skali od 1 do 7, ispitanik slaže da je __Covid-19 vrlo opasan__ po njega?\n",
    "\n",
    "Odgovor '7' označava slaganje u najvećem smislu. Ovo pitanje je bilo uključeno u upitnik od __lipnja 2020.__ do kraja dvogodišnjeg istraživanja.\n",
    "\n",
    "Odnosi se na stupac '__r1_1__'."
   ]
  },
  {
   "cell_type": "code",
   "execution_count": 31,
   "id": "3b19558b",
   "metadata": {},
   "outputs": [
    {
     "data": {
      "text/html": [
       "<div>\n",
       "<style scoped>\n",
       "    .dataframe tbody tr th:only-of-type {\n",
       "        vertical-align: middle;\n",
       "    }\n",
       "\n",
       "    .dataframe tbody tr th {\n",
       "        vertical-align: top;\n",
       "    }\n",
       "\n",
       "    .dataframe thead th {\n",
       "        text-align: right;\n",
       "    }\n",
       "</style>\n",
       "<table border=\"1\" class=\"dataframe\">\n",
       "  <thead>\n",
       "    <tr style=\"text-align: right;\">\n",
       "      <th></th>\n",
       "      <th>date</th>\n",
       "      <th>i7a_health</th>\n",
       "      <th>i12_health_25</th>\n",
       "      <th>r1_1</th>\n",
       "      <th>WAH_2</th>\n",
       "      <th>vac_man_99</th>\n",
       "    </tr>\n",
       "  </thead>\n",
       "  <tbody>\n",
       "    <tr>\n",
       "      <th>0</th>\n",
       "      <td>2020-04-01</td>\n",
       "      <td>1</td>\n",
       "      <td></td>\n",
       "      <td></td>\n",
       "      <td>NaN</td>\n",
       "      <td>NaN</td>\n",
       "    </tr>\n",
       "    <tr>\n",
       "      <th>1</th>\n",
       "      <td>2020-04-01</td>\n",
       "      <td>1</td>\n",
       "      <td></td>\n",
       "      <td></td>\n",
       "      <td>NaN</td>\n",
       "      <td>NaN</td>\n",
       "    </tr>\n",
       "    <tr>\n",
       "      <th>2</th>\n",
       "      <td>2020-04-01</td>\n",
       "      <td>0</td>\n",
       "      <td></td>\n",
       "      <td></td>\n",
       "      <td>NaN</td>\n",
       "      <td>NaN</td>\n",
       "    </tr>\n",
       "    <tr>\n",
       "      <th>3</th>\n",
       "      <td>2020-04-01</td>\n",
       "      <td>1</td>\n",
       "      <td></td>\n",
       "      <td></td>\n",
       "      <td>NaN</td>\n",
       "      <td>NaN</td>\n",
       "    </tr>\n",
       "    <tr>\n",
       "      <th>4</th>\n",
       "      <td>2020-04-01</td>\n",
       "      <td>1</td>\n",
       "      <td></td>\n",
       "      <td></td>\n",
       "      <td>NaN</td>\n",
       "      <td>NaN</td>\n",
       "    </tr>\n",
       "    <tr>\n",
       "      <th>...</th>\n",
       "      <td>...</td>\n",
       "      <td>...</td>\n",
       "      <td>...</td>\n",
       "      <td>...</td>\n",
       "      <td>...</td>\n",
       "      <td>...</td>\n",
       "    </tr>\n",
       "    <tr>\n",
       "      <th>25992</th>\n",
       "      <td>2022-03-01</td>\n",
       "      <td></td>\n",
       "      <td>Always</td>\n",
       "      <td>1 – Disagree</td>\n",
       "      <td>I am unable to work from home</td>\n",
       "      <td>No</td>\n",
       "    </tr>\n",
       "    <tr>\n",
       "      <th>25993</th>\n",
       "      <td>2022-03-01</td>\n",
       "      <td></td>\n",
       "      <td>Always</td>\n",
       "      <td>5</td>\n",
       "      <td>3 to 4 days</td>\n",
       "      <td>No</td>\n",
       "    </tr>\n",
       "    <tr>\n",
       "      <th>25994</th>\n",
       "      <td>2022-03-01</td>\n",
       "      <td></td>\n",
       "      <td>Always</td>\n",
       "      <td>4</td>\n",
       "      <td>3 to 4 days</td>\n",
       "      <td>No</td>\n",
       "    </tr>\n",
       "    <tr>\n",
       "      <th>25995</th>\n",
       "      <td>2022-03-01</td>\n",
       "      <td></td>\n",
       "      <td>Always</td>\n",
       "      <td>7 - Agree</td>\n",
       "      <td>0 days</td>\n",
       "      <td>No</td>\n",
       "    </tr>\n",
       "    <tr>\n",
       "      <th>25996</th>\n",
       "      <td>2022-03-01</td>\n",
       "      <td></td>\n",
       "      <td>Not at all</td>\n",
       "      <td>4</td>\n",
       "      <td>5+ days</td>\n",
       "      <td>Yes</td>\n",
       "    </tr>\n",
       "  </tbody>\n",
       "</table>\n",
       "<p>25997 rows × 6 columns</p>\n",
       "</div>"
      ],
      "text/plain": [
       "            date i7a_health i12_health_25          r1_1  \\\n",
       "0     2020-04-01          1                               \n",
       "1     2020-04-01          1                               \n",
       "2     2020-04-01          0                               \n",
       "3     2020-04-01          1                               \n",
       "4     2020-04-01          1                               \n",
       "...          ...        ...           ...           ...   \n",
       "25992 2022-03-01                   Always  1 – Disagree   \n",
       "25993 2022-03-01                   Always             5   \n",
       "25994 2022-03-01                   Always             4   \n",
       "25995 2022-03-01                   Always     7 - Agree   \n",
       "25996 2022-03-01               Not at all             4   \n",
       "\n",
       "                               WAH_2 vac_man_99  \n",
       "0                                NaN        NaN  \n",
       "1                                NaN        NaN  \n",
       "2                                NaN        NaN  \n",
       "3                                NaN        NaN  \n",
       "4                                NaN        NaN  \n",
       "...                              ...        ...  \n",
       "25992  I am unable to work from home         No  \n",
       "25993                    3 to 4 days         No  \n",
       "25994                    3 to 4 days         No  \n",
       "25995                         0 days         No  \n",
       "25996                        5+ days        Yes  \n",
       "\n",
       "[25997 rows x 6 columns]"
      ]
     },
     "execution_count": 31,
     "metadata": {},
     "output_type": "execute_result"
    }
   ],
   "source": [
    "japan"
   ]
  },
  {
   "cell_type": "code",
   "execution_count": 32,
   "id": "30169b3e",
   "metadata": {},
   "outputs": [
    {
     "data": {
      "text/plain": [
       "7 - Agree       7213\n",
       "5               4606\n",
       "4               4043\n",
       "6               3609\n",
       "                3392\n",
       "3               1482\n",
       "1 – Disagree     874\n",
       "2                778\n",
       "Name: r1_1, dtype: int64"
      ]
     },
     "execution_count": 32,
     "metadata": {},
     "output_type": "execute_result"
    }
   ],
   "source": [
    "japan['r1_1'].value_counts()"
   ]
  },
  {
   "cell_type": "markdown",
   "id": "7be92b1e",
   "metadata": {},
   "source": [
    "Unešeni odgovori su, dakle, opet smisleni. Također, ponovno uočavamo __bjeline__ koje se odnose na početak istraživanja te ćemo na njih pripaziti."
   ]
  },
  {
   "cell_type": "markdown",
   "id": "cbf0bfac",
   "metadata": {},
   "source": [
    "Objedinimo sada podatke iz __svih triju tablica__ i promotrimo zbirne rezultate, neovisno o državama. Nacrtajmo histogram distribucije odgovora na pitanje.\n",
    "\n",
    "Prije toga, iz praktičnih razloga promijenimo sve odgovore '7 - Agree' i odgovore '1 - Disagree' u '7' i '1', redom."
   ]
  },
  {
   "cell_type": "code",
   "execution_count": 33,
   "id": "b98f75a5",
   "metadata": {},
   "outputs": [
    {
     "name": "stdout",
     "output_type": "stream",
     "text": [
      "Wall time: 45.5 ms\n",
      "Wall time: 4.82 s\n",
      "Wall time: 91.9 ms\n"
     ]
    }
   ],
   "source": [
    "rjecnik = {'7 - Agree': '7', '1 – Disagree': '1'}\n",
    "%time japan.replace({'r1_1': rjecnik}, inplace=True)\n",
    "%time canada.replace({'r1_1': rjecnik}, inplace=True)\n",
    "%time denmark.replace({'r1_1': rjecnik}, inplace=True)"
   ]
  },
  {
   "cell_type": "code",
   "execution_count": 34,
   "id": "8c4d1e17",
   "metadata": {
    "scrolled": false
   },
   "outputs": [
    {
     "data": {
      "text/html": [
       "<div>\n",
       "<style scoped>\n",
       "    .dataframe tbody tr th:only-of-type {\n",
       "        vertical-align: middle;\n",
       "    }\n",
       "\n",
       "    .dataframe tbody tr th {\n",
       "        vertical-align: top;\n",
       "    }\n",
       "\n",
       "    .dataframe thead th {\n",
       "        text-align: right;\n",
       "    }\n",
       "</style>\n",
       "<table border=\"1\" class=\"dataframe\">\n",
       "  <thead>\n",
       "    <tr style=\"text-align: right;\">\n",
       "      <th></th>\n",
       "      <th>date</th>\n",
       "      <th>i7a_health</th>\n",
       "      <th>i12_health_25</th>\n",
       "      <th>r1_1</th>\n",
       "      <th>WAH_2</th>\n",
       "      <th>vac_man_99</th>\n",
       "    </tr>\n",
       "  </thead>\n",
       "  <tbody>\n",
       "    <tr>\n",
       "      <th>0</th>\n",
       "      <td>2020-04-01</td>\n",
       "      <td>1</td>\n",
       "      <td></td>\n",
       "      <td></td>\n",
       "      <td>NaN</td>\n",
       "      <td>NaN</td>\n",
       "    </tr>\n",
       "    <tr>\n",
       "      <th>1</th>\n",
       "      <td>2020-04-01</td>\n",
       "      <td>1</td>\n",
       "      <td></td>\n",
       "      <td></td>\n",
       "      <td>NaN</td>\n",
       "      <td>NaN</td>\n",
       "    </tr>\n",
       "    <tr>\n",
       "      <th>2</th>\n",
       "      <td>2020-04-01</td>\n",
       "      <td>0</td>\n",
       "      <td></td>\n",
       "      <td></td>\n",
       "      <td>NaN</td>\n",
       "      <td>NaN</td>\n",
       "    </tr>\n",
       "    <tr>\n",
       "      <th>3</th>\n",
       "      <td>2020-04-01</td>\n",
       "      <td>1</td>\n",
       "      <td></td>\n",
       "      <td></td>\n",
       "      <td>NaN</td>\n",
       "      <td>NaN</td>\n",
       "    </tr>\n",
       "    <tr>\n",
       "      <th>4</th>\n",
       "      <td>2020-04-01</td>\n",
       "      <td>1</td>\n",
       "      <td></td>\n",
       "      <td></td>\n",
       "      <td>NaN</td>\n",
       "      <td>NaN</td>\n",
       "    </tr>\n",
       "    <tr>\n",
       "      <th>...</th>\n",
       "      <td>...</td>\n",
       "      <td>...</td>\n",
       "      <td>...</td>\n",
       "      <td>...</td>\n",
       "      <td>...</td>\n",
       "      <td>...</td>\n",
       "    </tr>\n",
       "    <tr>\n",
       "      <th>25992</th>\n",
       "      <td>2022-03-01</td>\n",
       "      <td></td>\n",
       "      <td>Always</td>\n",
       "      <td>1</td>\n",
       "      <td>I am unable to work from home</td>\n",
       "      <td>No</td>\n",
       "    </tr>\n",
       "    <tr>\n",
       "      <th>25993</th>\n",
       "      <td>2022-03-01</td>\n",
       "      <td></td>\n",
       "      <td>Always</td>\n",
       "      <td>5</td>\n",
       "      <td>3 to 4 days</td>\n",
       "      <td>No</td>\n",
       "    </tr>\n",
       "    <tr>\n",
       "      <th>25994</th>\n",
       "      <td>2022-03-01</td>\n",
       "      <td></td>\n",
       "      <td>Always</td>\n",
       "      <td>4</td>\n",
       "      <td>3 to 4 days</td>\n",
       "      <td>No</td>\n",
       "    </tr>\n",
       "    <tr>\n",
       "      <th>25995</th>\n",
       "      <td>2022-03-01</td>\n",
       "      <td></td>\n",
       "      <td>Always</td>\n",
       "      <td>7</td>\n",
       "      <td>0 days</td>\n",
       "      <td>No</td>\n",
       "    </tr>\n",
       "    <tr>\n",
       "      <th>25996</th>\n",
       "      <td>2022-03-01</td>\n",
       "      <td></td>\n",
       "      <td>Not at all</td>\n",
       "      <td>4</td>\n",
       "      <td>5+ days</td>\n",
       "      <td>Yes</td>\n",
       "    </tr>\n",
       "  </tbody>\n",
       "</table>\n",
       "<p>25997 rows × 6 columns</p>\n",
       "</div>"
      ],
      "text/plain": [
       "            date i7a_health i12_health_25 r1_1                          WAH_2  \\\n",
       "0     2020-04-01          1                                               NaN   \n",
       "1     2020-04-01          1                                               NaN   \n",
       "2     2020-04-01          0                                               NaN   \n",
       "3     2020-04-01          1                                               NaN   \n",
       "4     2020-04-01          1                                               NaN   \n",
       "...          ...        ...           ...  ...                            ...   \n",
       "25992 2022-03-01                   Always    1  I am unable to work from home   \n",
       "25993 2022-03-01                   Always    5                    3 to 4 days   \n",
       "25994 2022-03-01                   Always    4                    3 to 4 days   \n",
       "25995 2022-03-01                   Always    7                         0 days   \n",
       "25996 2022-03-01               Not at all    4                        5+ days   \n",
       "\n",
       "      vac_man_99  \n",
       "0            NaN  \n",
       "1            NaN  \n",
       "2            NaN  \n",
       "3            NaN  \n",
       "4            NaN  \n",
       "...          ...  \n",
       "25992         No  \n",
       "25993         No  \n",
       "25994         No  \n",
       "25995         No  \n",
       "25996        Yes  \n",
       "\n",
       "[25997 rows x 6 columns]"
      ]
     },
     "execution_count": 34,
     "metadata": {},
     "output_type": "execute_result"
    }
   ],
   "source": [
    "japan"
   ]
  },
  {
   "cell_type": "markdown",
   "id": "b1985994",
   "metadata": {},
   "source": [
    "Odgovore ćemo učitati u `np.array`."
   ]
  },
  {
   "cell_type": "code",
   "execution_count": 35,
   "id": "358b3185",
   "metadata": {},
   "outputs": [],
   "source": [
    "import numpy as np\n",
    "answers_japan = np.array([int(s) for s in japan['r1_1'] if s != ' '])\n",
    "answers_canada = np.array([int(s) for s in canada['r1_1'] if s != ' '])\n",
    "answers_denmark = np.array([int(s) for s in denmark['r1_1'] if s != ' '])\n",
    "\n",
    "answers = np.concatenate((answers_japan, answers_canada, answers_denmark))    # Skupimo odgovore na hrpu, u jedan np.array"
   ]
  },
  {
   "cell_type": "markdown",
   "id": "fc7f54ac",
   "metadata": {},
   "source": [
    "Konačno, prikažimo __histogram__."
   ]
  },
  {
   "cell_type": "code",
   "execution_count": 36,
   "id": "e0290c6c",
   "metadata": {
    "scrolled": false
   },
   "outputs": [
    {
     "data": {
      "image/png": "[encoded data removed]",
      "text/plain": [
       "<Figure size 640x480 with 1 Axes>"
      ]
     },
     "execution_count": 36,
     "metadata": {},
     "output_type": "execute_result"
    }
   ],
   "source": [
    "slika, koord = plt.subplots()\n",
    "koord.hist(answers, bins=range(1, 9))\n",
    "slika"
   ]
  }
 ],
 "metadata": {
  "kernelspec": {
   "display_name": "Python 3 (ipykernel)",
   "language": "python",
   "name": "python3"
  },
  "language_info": {
   "codemirror_mode": {
    "name": "ipython",
    "version": 3
   },
   "file_extension": ".py",
   "mimetype": "text/x-python",
   "name": "python",
   "nbconvert_exporter": "python",
   "pygments_lexer": "ipython3",
   "version": "3.9.7"
  }
 },
 "nbformat": 4,
 "nbformat_minor": 5
}
